{
 "cells": [
  {
   "cell_type": "markdown",
   "id": "d3c81342",
   "metadata": {},
   "source": [
    "# Leistungsbeurteilung 259\n",
    "## Teil 3\n"
   ]
  },
  {
   "cell_type": "code",
   "execution_count": 1,
   "id": "f7db1b55",
   "metadata": {},
   "outputs": [
    {
     "data": {
      "text/html": [
       "<div>\n",
       "<style scoped>\n",
       "    .dataframe tbody tr th:only-of-type {\n",
       "        vertical-align: middle;\n",
       "    }\n",
       "\n",
       "    .dataframe tbody tr th {\n",
       "        vertical-align: top;\n",
       "    }\n",
       "\n",
       "    .dataframe thead th {\n",
       "        text-align: right;\n",
       "    }\n",
       "</style>\n",
       "<table border=\"1\" class=\"dataframe\">\n",
       "  <thead>\n",
       "    <tr style=\"text-align: right;\">\n",
       "      <th></th>\n",
       "      <th>Datum</th>\n",
       "      <th>Niederschlag in mm</th>\n",
       "      <th>Niederschlag in mm am Vortag</th>\n",
       "      <th>Niederschlag in mm am nächsten Tag</th>\n",
       "    </tr>\n",
       "  </thead>\n",
       "  <tbody>\n",
       "    <tr>\n",
       "      <th>0</th>\n",
       "      <td>1/2/1948</td>\n",
       "      <td>14.986</td>\n",
       "      <td>11.938</td>\n",
       "      <td>10.668</td>\n",
       "    </tr>\n",
       "    <tr>\n",
       "      <th>1</th>\n",
       "      <td>1/3/1948</td>\n",
       "      <td>10.668</td>\n",
       "      <td>14.986</td>\n",
       "      <td>7.874</td>\n",
       "    </tr>\n",
       "    <tr>\n",
       "      <th>2</th>\n",
       "      <td>1/4/1948</td>\n",
       "      <td>7.874</td>\n",
       "      <td>10.668</td>\n",
       "      <td>4.318</td>\n",
       "    </tr>\n",
       "    <tr>\n",
       "      <th>3</th>\n",
       "      <td>1/5/1948</td>\n",
       "      <td>4.318</td>\n",
       "      <td>7.874</td>\n",
       "      <td>11.176</td>\n",
       "    </tr>\n",
       "    <tr>\n",
       "      <th>4</th>\n",
       "      <td>1/6/1948</td>\n",
       "      <td>11.176</td>\n",
       "      <td>4.318</td>\n",
       "      <td>10.414</td>\n",
       "    </tr>\n",
       "  </tbody>\n",
       "</table>\n",
       "</div>"
      ],
      "text/plain": [
       "      Datum  Niederschlag in mm  Niederschlag in mm am Vortag   \n",
       "0  1/2/1948              14.986                        11.938  \\\n",
       "1  1/3/1948              10.668                        14.986   \n",
       "2  1/4/1948               7.874                        10.668   \n",
       "3  1/5/1948               4.318                         7.874   \n",
       "4  1/6/1948              11.176                         4.318   \n",
       "\n",
       "   Niederschlag in mm am nächsten Tag  \n",
       "0                              10.668  \n",
       "1                               7.874  \n",
       "2                               4.318  \n",
       "3                              11.176  \n",
       "4                              10.414  "
      ]
     },
     "execution_count": 1,
     "metadata": {},
     "output_type": "execute_result"
    }
   ],
   "source": [
    "import pandas as pd\n",
    "import os \n",
    "\n",
    "weather_df = pd.read_csv(os.path.join('dataset-weather2.csv'))\n",
    "weather_df.head()"
   ]
  },
  {
   "cell_type": "code",
   "execution_count": 2,
   "id": "9915d683",
   "metadata": {},
   "outputs": [
    {
     "name": "stdout",
     "output_type": "stream",
     "text": [
      "<class 'pandas.core.frame.DataFrame'>\n",
      "RangeIndex: 25549 entries, 0 to 25548\n",
      "Data columns (total 4 columns):\n",
      " #   Column                              Non-Null Count  Dtype         \n",
      "---  ------                              --------------  -----         \n",
      " 0   Datum                               25549 non-null  datetime64[ns]\n",
      " 1   Niederschlag in mm                  25549 non-null  float64       \n",
      " 2   Niederschlag in mm am Vortag        25549 non-null  float64       \n",
      " 3   Niederschlag in mm am nächsten Tag  25549 non-null  float64       \n",
      "dtypes: datetime64[ns](1), float64(3)\n",
      "memory usage: 798.5 KB\n"
     ]
    }
   ],
   "source": [
    "# NaN-Werte entfernen\n",
    "weather_df = weather_df.dropna()\n",
    "\n",
    "# Datumsformat konvertieren\n",
    "weather_df['Datum'] = pd.to_datetime(weather_df['Datum'])\n",
    "\n",
    "weather_df.head()\n",
    "weather_df.info()"
   ]
  },
  {
   "cell_type": "code",
   "execution_count": 3,
   "id": "eda4888e",
   "metadata": {},
   "outputs": [],
   "source": [
    "import datetime as dt\n",
    "\n",
    "weather_df['Datum'] = pd.to_datetime(weather_df['Datum'])\n",
    "weather_df['Datum']= weather_df['Datum'].map(dt.datetime.toordinal)\n",
    "\n",
    "features = ['Datum', 'Niederschlag in mm', 'Niederschlag in mm am Vortag']\n",
    "target = ['Niederschlag in mm am nächsten Tag']\n",
    "\n",
    "X = weather_df[features]\n",
    "y = weather_df[target]"
   ]
  },
  {
   "cell_type": "code",
   "execution_count": 4,
   "id": "3b8a84da",
   "metadata": {},
   "outputs": [
    {
     "name": "stdout",
     "output_type": "stream",
     "text": [
      "<class 'pandas.core.frame.DataFrame'>\n",
      "RangeIndex: 25549 entries, 0 to 25548\n",
      "Data columns (total 3 columns):\n",
      " #   Column                        Non-Null Count  Dtype  \n",
      "---  ------                        --------------  -----  \n",
      " 0   Datum                         25549 non-null  int64  \n",
      " 1   Niederschlag in mm            25549 non-null  float64\n",
      " 2   Niederschlag in mm am Vortag  25549 non-null  float64\n",
      "dtypes: float64(2), int64(1)\n",
      "memory usage: 598.9 KB\n"
     ]
    }
   ],
   "source": [
    "X.info()"
   ]
  },
  {
   "cell_type": "markdown",
   "id": "370d7808",
   "metadata": {},
   "source": [
    "# 3.1\n",
    "Einteilung in *test* und *train*"
   ]
  },
  {
   "cell_type": "code",
   "execution_count": 5,
   "id": "5e7143d0",
   "metadata": {},
   "outputs": [
    {
     "data": {
      "text/plain": [
       "(20439, 5110)"
      ]
     },
     "execution_count": 5,
     "metadata": {},
     "output_type": "execute_result"
    }
   ],
   "source": [
    "from sklearn.model_selection import train_test_split\n",
    "\n",
    "X_train, X_test, y_train, y_test = train_test_split(X, y, test_size = 0.2, random_state = 42)\n",
    "\n",
    "len(X_train), len(X_test)"
   ]
  },
  {
   "cell_type": "markdown",
   "id": "07e44472",
   "metadata": {},
   "source": [
    "# 3.2\n",
    "\n",
    "Ich denke, dass sich für die Vorhersage von Niederschlagsmengen der lineare Regressionsalgorithmus aus  scikit-learn eignet. Dieser Algorithmus hilft dabei, den Zusammenhang zwischen verschiedenen Faktoren wie Datum, Niederschlagsmengen und den Mengen in den vorherigen Tagen zu verstehen und darauf basierend eine Vorhersage zu treffen, wie viel Niederschlag am nächsten Tag fallen wird. Ausserdem denke ich, dass es nicht viele Outliner durch diesen Algorithmus geben wird."
   ]
  },
  {
   "cell_type": "code",
   "execution_count": 6,
   "id": "9bb86dfe",
   "metadata": {},
   "outputs": [
    {
     "data": {
      "text/html": [
       "<style>#sk-container-id-1 {color: black;background-color: white;}#sk-container-id-1 pre{padding: 0;}#sk-container-id-1 div.sk-toggleable {background-color: white;}#sk-container-id-1 label.sk-toggleable__label {cursor: pointer;display: block;width: 100%;margin-bottom: 0;padding: 0.3em;box-sizing: border-box;text-align: center;}#sk-container-id-1 label.sk-toggleable__label-arrow:before {content: \"▸\";float: left;margin-right: 0.25em;color: #696969;}#sk-container-id-1 label.sk-toggleable__label-arrow:hover:before {color: black;}#sk-container-id-1 div.sk-estimator:hover label.sk-toggleable__label-arrow:before {color: black;}#sk-container-id-1 div.sk-toggleable__content {max-height: 0;max-width: 0;overflow: hidden;text-align: left;background-color: #f0f8ff;}#sk-container-id-1 div.sk-toggleable__content pre {margin: 0.2em;color: black;border-radius: 0.25em;background-color: #f0f8ff;}#sk-container-id-1 input.sk-toggleable__control:checked~div.sk-toggleable__content {max-height: 200px;max-width: 100%;overflow: auto;}#sk-container-id-1 input.sk-toggleable__control:checked~label.sk-toggleable__label-arrow:before {content: \"▾\";}#sk-container-id-1 div.sk-estimator input.sk-toggleable__control:checked~label.sk-toggleable__label {background-color: #d4ebff;}#sk-container-id-1 div.sk-label input.sk-toggleable__control:checked~label.sk-toggleable__label {background-color: #d4ebff;}#sk-container-id-1 input.sk-hidden--visually {border: 0;clip: rect(1px 1px 1px 1px);clip: rect(1px, 1px, 1px, 1px);height: 1px;margin: -1px;overflow: hidden;padding: 0;position: absolute;width: 1px;}#sk-container-id-1 div.sk-estimator {font-family: monospace;background-color: #f0f8ff;border: 1px dotted black;border-radius: 0.25em;box-sizing: border-box;margin-bottom: 0.5em;}#sk-container-id-1 div.sk-estimator:hover {background-color: #d4ebff;}#sk-container-id-1 div.sk-parallel-item::after {content: \"\";width: 100%;border-bottom: 1px solid gray;flex-grow: 1;}#sk-container-id-1 div.sk-label:hover label.sk-toggleable__label {background-color: #d4ebff;}#sk-container-id-1 div.sk-serial::before {content: \"\";position: absolute;border-left: 1px solid gray;box-sizing: border-box;top: 0;bottom: 0;left: 50%;z-index: 0;}#sk-container-id-1 div.sk-serial {display: flex;flex-direction: column;align-items: center;background-color: white;padding-right: 0.2em;padding-left: 0.2em;position: relative;}#sk-container-id-1 div.sk-item {position: relative;z-index: 1;}#sk-container-id-1 div.sk-parallel {display: flex;align-items: stretch;justify-content: center;background-color: white;position: relative;}#sk-container-id-1 div.sk-item::before, #sk-container-id-1 div.sk-parallel-item::before {content: \"\";position: absolute;border-left: 1px solid gray;box-sizing: border-box;top: 0;bottom: 0;left: 50%;z-index: -1;}#sk-container-id-1 div.sk-parallel-item {display: flex;flex-direction: column;z-index: 1;position: relative;background-color: white;}#sk-container-id-1 div.sk-parallel-item:first-child::after {align-self: flex-end;width: 50%;}#sk-container-id-1 div.sk-parallel-item:last-child::after {align-self: flex-start;width: 50%;}#sk-container-id-1 div.sk-parallel-item:only-child::after {width: 0;}#sk-container-id-1 div.sk-dashed-wrapped {border: 1px dashed gray;margin: 0 0.4em 0.5em 0.4em;box-sizing: border-box;padding-bottom: 0.4em;background-color: white;}#sk-container-id-1 div.sk-label label {font-family: monospace;font-weight: bold;display: inline-block;line-height: 1.2em;}#sk-container-id-1 div.sk-label-container {text-align: center;}#sk-container-id-1 div.sk-container {/* jupyter's `normalize.less` sets `[hidden] { display: none; }` but bootstrap.min.css set `[hidden] { display: none !important; }` so we also need the `!important` here to be able to override the default hidden behavior on the sphinx rendered scikit-learn.org. See: https://github.com/scikit-learn/scikit-learn/issues/21755 */display: inline-block !important;position: relative;}#sk-container-id-1 div.sk-text-repr-fallback {display: none;}</style><div id=\"sk-container-id-1\" class=\"sk-top-container\"><div class=\"sk-text-repr-fallback\"><pre>LinearRegression()</pre><b>In a Jupyter environment, please rerun this cell to show the HTML representation or trust the notebook. <br />On GitHub, the HTML representation is unable to render, please try loading this page with nbviewer.org.</b></div><div class=\"sk-container\" hidden><div class=\"sk-item\"><div class=\"sk-estimator sk-toggleable\"><input class=\"sk-toggleable__control sk-hidden--visually\" id=\"sk-estimator-id-1\" type=\"checkbox\" checked><label for=\"sk-estimator-id-1\" class=\"sk-toggleable__label sk-toggleable__label-arrow\">LinearRegression</label><div class=\"sk-toggleable__content\"><pre>LinearRegression()</pre></div></div></div></div></div>"
      ],
      "text/plain": [
       "LinearRegression()"
      ]
     },
     "execution_count": 6,
     "metadata": {},
     "output_type": "execute_result"
    }
   ],
   "source": [
    "from sklearn.linear_model import LinearRegression\n",
    "\n",
    "model = LinearRegression()\n",
    "model.fit(X_train, y_train)"
   ]
  },
  {
   "cell_type": "markdown",
   "id": "046576bf",
   "metadata": {},
   "source": [
    "# 3.3\n",
    "Es wurde ein Vergleich zwischen den ersten zehn Vorhersagen des Modells für den Niederschlag in mm am nächsten Tag und den tatsächlichen Werten aus dem Testdatensatz durchgeführt. Da die Unterschiede zwischen den tatsächlichen Werten und den Vorhersagen gering sind, scheinen die Vorhersagen im Allgemeinen vernünftig zu sein. \n",
    "\n",
    "Es gab jedoch einige Fälle, in denen die Vorhersagen und die tatsächlichen Werte erheblich voneinander abwichen. In der siebten Beobachtung sagte das Modell einen Niederschlag von 5,27 mm vorher, aber der tatsächliche Wert betrug 25,65 mm. Insgesamt scheint das Modell jedoch eine akzeptable Leistung zu zeigen und könnte für weitere Vorhersagen auf ähnlichen Datensätzen verwendet werden. "
   ]
  },
  {
   "cell_type": "code",
   "execution_count": 20,
   "id": "4e3463b2",
   "metadata": {},
   "outputs": [
    {
     "data": {
      "text/html": [
       "<div>\n",
       "<style scoped>\n",
       "    .dataframe tbody tr th:only-of-type {\n",
       "        vertical-align: middle;\n",
       "    }\n",
       "\n",
       "    .dataframe tbody tr th {\n",
       "        vertical-align: top;\n",
       "    }\n",
       "\n",
       "    .dataframe thead th {\n",
       "        text-align: right;\n",
       "    }\n",
       "</style>\n",
       "<table border=\"1\" class=\"dataframe\">\n",
       "  <thead>\n",
       "    <tr style=\"text-align: right;\">\n",
       "      <th></th>\n",
       "      <th>Vorhergesagte Werte</th>\n",
       "      <th>Niederschlag in mm am nächsten Tag</th>\n",
       "    </tr>\n",
       "  </thead>\n",
       "  <tbody>\n",
       "    <tr>\n",
       "      <th>0</th>\n",
       "      <td>2.020974</td>\n",
       "      <td>9.652</td>\n",
       "    </tr>\n",
       "    <tr>\n",
       "      <th>1</th>\n",
       "      <td>1.731687</td>\n",
       "      <td>0.000</td>\n",
       "    </tr>\n",
       "    <tr>\n",
       "      <th>2</th>\n",
       "      <td>1.732720</td>\n",
       "      <td>0.000</td>\n",
       "    </tr>\n",
       "    <tr>\n",
       "      <th>3</th>\n",
       "      <td>1.734715</td>\n",
       "      <td>0.000</td>\n",
       "    </tr>\n",
       "    <tr>\n",
       "      <th>4</th>\n",
       "      <td>2.523126</td>\n",
       "      <td>1.524</td>\n",
       "    </tr>\n",
       "    <tr>\n",
       "      <th>5</th>\n",
       "      <td>1.733382</td>\n",
       "      <td>0.000</td>\n",
       "    </tr>\n",
       "    <tr>\n",
       "      <th>6</th>\n",
       "      <td>4.941574</td>\n",
       "      <td>2.286</td>\n",
       "    </tr>\n",
       "    <tr>\n",
       "      <th>7</th>\n",
       "      <td>5.273850</td>\n",
       "      <td>25.654</td>\n",
       "    </tr>\n",
       "    <tr>\n",
       "      <th>8</th>\n",
       "      <td>1.783605</td>\n",
       "      <td>0.000</td>\n",
       "    </tr>\n",
       "    <tr>\n",
       "      <th>9</th>\n",
       "      <td>1.735015</td>\n",
       "      <td>0.000</td>\n",
       "    </tr>\n",
       "  </tbody>\n",
       "</table>\n",
       "</div>"
      ],
      "text/plain": [
       "   Vorhergesagte Werte  Niederschlag in mm am nächsten Tag\n",
       "0             2.020974                               9.652\n",
       "1             1.731687                               0.000\n",
       "2             1.732720                               0.000\n",
       "3             1.734715                               0.000\n",
       "4             2.523126                               1.524\n",
       "5             1.733382                               0.000\n",
       "6             4.941574                               2.286\n",
       "7             5.273850                              25.654\n",
       "8             1.783605                               0.000\n",
       "9             1.735015                               0.000"
      ]
     },
     "execution_count": 20,
     "metadata": {},
     "output_type": "execute_result"
    }
   ],
   "source": [
    "# Vorhersagen auf dem Testdatensatz machen\n",
    "y_pred = model.predict(X_test)\n",
    "\n",
    "# DataFrame aus Vorhersagen erstellen\n",
    "y_pred_df = pd.DataFrame(y_pred, columns=['Vorhergesagte Werte'])\n",
    "\n",
    "# DataFrame mit tatsächlichen Werten erstellen\n",
    "y_test_df = pd.DataFrame(y_test, columns=['Niederschlag in mm am nächsten Tag'])\n",
    "\n",
    "# Index von y_test_df zurücksetzen (sonst kann die Tabelle nicht kombiniert werden, siehe nächster\n",
    "# Schritt)\n",
    "y_test_df = y_test_df.reset_index(drop=True)\n",
    "\n",
    "# DataFrames nebeneinander anzeigen\n",
    "combined_df = pd.concat([y_pred_df, y_test_df], axis=1)\n",
    "combined_df.head(10)"
   ]
  },
  {
   "cell_type": "code",
   "execution_count": 21,
   "id": "d417756a",
   "metadata": {},
   "outputs": [
    {
     "data": {
      "image/png": "[encoded data removed]",
      "text/plain": [
       "<Figure size 640x480 with 1 Axes>"
      ]
     },
     "metadata": {},
     "output_type": "display_data"
    }
   ],
   "source": [
    "# Das folgende Diagramm soll die Gerade der Linearen Regression zeigen. Dabei gilt, dass jeder Punkt,\n",
    "# welcher auf dieser Gerade liegt, richtig vorhergesagt wurde.\n",
    "\n",
    "import matplotlib.pyplot as plt\n",
    "import numpy as np\n",
    "\n",
    "plt.scatter(y_test, y_pred)\n",
    "plt.xlabel('Tatsächliche Werte')\n",
    "plt.ylabel('Vorhergesagte Werte')\n",
    "plt.title('Vorhersage durch lineare Regression')\n",
    "\n",
    "x = np.linspace(0, 70, 100)\n",
    "plt.plot(x, x, '-r', label='Lineare Regression')\n",
    "\n",
    "\n",
    "plt.legend()\n",
    "plt.show()\n"
   ]
  }
 ],
 "metadata": {
  "kernelspec": {
   "display_name": "Python 3 (ipykernel)",
   "language": "python",
   "name": "python3"
  },
  "language_info": {
   "codemirror_mode": {
    "name": "ipython",
    "version": 3
   },
   "file_extension": ".py",
   "mimetype": "text/x-python",
   "name": "python",
   "nbconvert_exporter": "python",
   "pygments_lexer": "ipython3",
   "version": "3.11.3"
  }
 },
 "nbformat": 4,
 "nbformat_minor": 5
}
