{
 "cells": [
  {
   "cell_type": "markdown",
   "id": "246a230c",
   "metadata": {},
   "source": [
    "# Leistungsbeurteilung 259\n",
    "## Teil 2\n",
    "\n",
    "Bei dem von mir verwendeten Datensatz handelt es sich, wie bereits beschrieben, um einen Wetter bzw. Niderschlagsdatensatz der Region Seattle. Im folgenden werde ich diesen Datensatz auf Grundlage der Leistungsbeurteilung analysieren und auswerten."
   ]
  },
  {
   "cell_type": "markdown",
   "id": "55b183de",
   "metadata": {},
   "source": [
    "### 2.1\n",
    "Ich möchte Vorhersagen für die Spalte \"Niederschlag in mm am nächsten Tag\" treffen. Dies sind nummerische Werte. Dies möchte ich mithilfe der Features \"Datum\", \"Niederschlag in mm\" und \"Niederschlag in mm am Vortag\" tätigen."
   ]
  },
  {
   "cell_type": "markdown",
   "id": "ad9ce71a",
   "metadata": {},
   "source": [
    "### 2.2\n",
    "Bestimmen Sie für jedes Feld einige relevanten statistischen Informationen wie beispielsweise Median und Standardabweichung.\n",
    "\n",
    "Zunächst importiere ich den Datensatz. Sie können nach unten scrollen, um zu den Ergebnissen zu gelangen."
   ]
  },
  {
   "cell_type": "code",
   "execution_count": 1,
   "id": "0aca5703",
   "metadata": {},
   "outputs": [],
   "source": [
    "import pandas as pd\n",
    "import matplotlib.pyplot as plt\n",
    "import os\n",
    "\n",
    "\n",
    "dataset_weather = pd.read_csv(os.path.join(\"dataset-weather2.csv\"))"
   ]
  },
  {
   "cell_type": "code",
   "execution_count": 2,
   "id": "fed98d23",
   "metadata": {
    "scrolled": true
   },
   "outputs": [
    {
     "data": {
      "text/html": [
       "<div>\n",
       "<style scoped>\n",
       "    .dataframe tbody tr th:only-of-type {\n",
       "        vertical-align: middle;\n",
       "    }\n",
       "\n",
       "    .dataframe tbody tr th {\n",
       "        vertical-align: top;\n",
       "    }\n",
       "\n",
       "    .dataframe thead th {\n",
       "        text-align: right;\n",
       "    }\n",
       "</style>\n",
       "<table border=\"1\" class=\"dataframe\">\n",
       "  <thead>\n",
       "    <tr style=\"text-align: right;\">\n",
       "      <th></th>\n",
       "      <th>Datum</th>\n",
       "      <th>Niederschlag in mm</th>\n",
       "      <th>Niederschlag in mm am Vortag</th>\n",
       "      <th>Niederschlag in mm am nächsten Tag</th>\n",
       "    </tr>\n",
       "  </thead>\n",
       "  <tbody>\n",
       "    <tr>\n",
       "      <th>0</th>\n",
       "      <td>1/2/1948</td>\n",
       "      <td>14.986</td>\n",
       "      <td>11.938</td>\n",
       "      <td>10.668</td>\n",
       "    </tr>\n",
       "    <tr>\n",
       "      <th>1</th>\n",
       "      <td>1/3/1948</td>\n",
       "      <td>10.668</td>\n",
       "      <td>14.986</td>\n",
       "      <td>7.874</td>\n",
       "    </tr>\n",
       "    <tr>\n",
       "      <th>2</th>\n",
       "      <td>1/4/1948</td>\n",
       "      <td>7.874</td>\n",
       "      <td>10.668</td>\n",
       "      <td>4.318</td>\n",
       "    </tr>\n",
       "    <tr>\n",
       "      <th>3</th>\n",
       "      <td>1/5/1948</td>\n",
       "      <td>4.318</td>\n",
       "      <td>7.874</td>\n",
       "      <td>11.176</td>\n",
       "    </tr>\n",
       "    <tr>\n",
       "      <th>4</th>\n",
       "      <td>1/6/1948</td>\n",
       "      <td>11.176</td>\n",
       "      <td>4.318</td>\n",
       "      <td>10.414</td>\n",
       "    </tr>\n",
       "    <tr>\n",
       "      <th>5</th>\n",
       "      <td>1/7/1948</td>\n",
       "      <td>10.414</td>\n",
       "      <td>11.176</td>\n",
       "      <td>1.016</td>\n",
       "    </tr>\n",
       "    <tr>\n",
       "      <th>6</th>\n",
       "      <td>1/8/1948</td>\n",
       "      <td>1.016</td>\n",
       "      <td>10.414</td>\n",
       "      <td>3.048</td>\n",
       "    </tr>\n",
       "    <tr>\n",
       "      <th>7</th>\n",
       "      <td>1/9/1948</td>\n",
       "      <td>3.048</td>\n",
       "      <td>1.016</td>\n",
       "      <td>18.796</td>\n",
       "    </tr>\n",
       "    <tr>\n",
       "      <th>8</th>\n",
       "      <td>1/10/1948</td>\n",
       "      <td>18.796</td>\n",
       "      <td>3.048</td>\n",
       "      <td>0.254</td>\n",
       "    </tr>\n",
       "    <tr>\n",
       "      <th>9</th>\n",
       "      <td>1/11/1948</td>\n",
       "      <td>0.254</td>\n",
       "      <td>18.796</td>\n",
       "      <td>0.000</td>\n",
       "    </tr>\n",
       "  </tbody>\n",
       "</table>\n",
       "</div>"
      ],
      "text/plain": [
       "       Datum  Niederschlag in mm  Niederschlag in mm am Vortag   \n",
       "0   1/2/1948              14.986                        11.938  \\\n",
       "1   1/3/1948              10.668                        14.986   \n",
       "2   1/4/1948               7.874                        10.668   \n",
       "3   1/5/1948               4.318                         7.874   \n",
       "4   1/6/1948              11.176                         4.318   \n",
       "5   1/7/1948              10.414                        11.176   \n",
       "6   1/8/1948               1.016                        10.414   \n",
       "7   1/9/1948               3.048                         1.016   \n",
       "8  1/10/1948              18.796                         3.048   \n",
       "9  1/11/1948               0.254                        18.796   \n",
       "\n",
       "   Niederschlag in mm am nächsten Tag  \n",
       "0                              10.668  \n",
       "1                               7.874  \n",
       "2                               4.318  \n",
       "3                              11.176  \n",
       "4                              10.414  \n",
       "5                               1.016  \n",
       "6                               3.048  \n",
       "7                              18.796  \n",
       "8                               0.254  \n",
       "9                               0.000  "
      ]
     },
     "execution_count": 2,
     "metadata": {},
     "output_type": "execute_result"
    }
   ],
   "source": [
    "# Testen, ob ich den Datensatz nun einsehen kann\n",
    "dataset_weather.head(10)"
   ]
  },
  {
   "cell_type": "code",
   "execution_count": 3,
   "id": "74851168",
   "metadata": {},
   "outputs": [
    {
     "name": "stdout",
     "output_type": "stream",
     "text": [
      "<class 'pandas.core.frame.DataFrame'>\n",
      "RangeIndex: 25549 entries, 0 to 25548\n",
      "Data columns (total 4 columns):\n",
      " #   Column                              Non-Null Count  Dtype  \n",
      "---  ------                              --------------  -----  \n",
      " 0   Datum                               25549 non-null  object \n",
      " 1   Niederschlag in mm                  25549 non-null  float64\n",
      " 2   Niederschlag in mm am Vortag        25549 non-null  float64\n",
      " 3   Niederschlag in mm am nächsten Tag  25549 non-null  float64\n",
      "dtypes: float64(3), object(1)\n",
      "memory usage: 798.5+ KB\n"
     ]
    }
   ],
   "source": [
    "# Auch die Infos des Datensatzes werden getestet\n",
    "dataset_weather.info()"
   ]
  },
  {
   "cell_type": "markdown",
   "id": "3f152ed8",
   "metadata": {},
   "source": [
    "### 2.2\n",
    "Der eigentliche Teil der Aufgabe"
   ]
  },
  {
   "cell_type": "code",
   "execution_count": 4,
   "id": "798e8b84",
   "metadata": {},
   "outputs": [
    {
     "name": "stdout",
     "output_type": "stream",
     "text": [
      "       Niederschlag in mm  Niederschlag in mm am Vortag   \n",
      "count        25549.000000                  25549.000000  \\\n",
      "mean             2.697456                      2.697924   \n",
      "std              6.071052                      6.071304   \n",
      "min              0.000000                      0.000000   \n",
      "25%              0.000000                      0.000000   \n",
      "50%              0.000000                      0.000000   \n",
      "75%              2.540000                      2.540000   \n",
      "max            127.508000                    127.508000   \n",
      "\n",
      "       Niederschlag in mm am nächsten Tag  \n",
      "count                        25549.000000  \n",
      "mean                             2.696870  \n",
      "std                              6.070589  \n",
      "min                              0.000000  \n",
      "25%                              0.000000  \n",
      "50%                              0.000000  \n",
      "75%                              2.540000  \n",
      "max                            127.508000  \n"
     ]
    }
   ],
   "source": [
    "# Nun komme ich zum eigentlichen Teil der Aufgabe. Dieser Code deckt den Mittel, die Standard-\n",
    "# Abweichung sowie die Perzentile ab.\n",
    "df = pd.DataFrame(dataset_weather)\n",
    "description = df.describe()\n",
    "print(description)"
   ]
  },
  {
   "cell_type": "code",
   "execution_count": 5,
   "id": "17935c9b",
   "metadata": {},
   "outputs": [
    {
     "name": "stdout",
     "output_type": "stream",
     "text": [
      "Statistiken Spalte 'Niederschlag in mm'\n",
      "Modus:  0    0.0\n",
      "Name: Niederschlag in mm, dtype: float64\n",
      "Median:  0.0\n",
      "Varianz:  36.8576713901889 \n",
      "\n",
      "Statistiken Spalte 'Niederschlag in mm am Vortag'\n",
      "Modus:  0    0.0\n",
      "Name: Niederschlag in mm am Vortag, dtype: float64\n",
      "Median:  0.0\n",
      "Varianz:  36.86072860790915 \n",
      "\n",
      "Statistiken Spalte 'Niederschlag in mm am nächsten Tag'\n",
      "Modus:  0    0.0\n",
      "Name: Niederschlag in mm am nächsten Tag, dtype: float64\n",
      "Median:  0.0\n",
      "Varianz:  36.85204508578976\n"
     ]
    }
   ],
   "source": [
    "# Nun benötige ich noch den Median (median), den Modus (mode) sowie die Varianz (variance).\n",
    "print(\"Statistiken Spalte 'Niederschlag in mm'\")\n",
    "mode_regenmenge = dataset_weather[\"Niederschlag in mm\"].mode()\n",
    "print(\"Modus: \", mode_regenmenge)\n",
    "\n",
    "median_regenmenge = dataset_weather[\"Niederschlag in mm\"].median()\n",
    "print(\"Median: \", median_regenmenge)\n",
    "\n",
    "variance_regenmenge = dataset_weather[\"Niederschlag in mm\"].var()\n",
    "print(\"Varianz: \", variance_regenmenge, \"\\n\")\n",
    "\n",
    "\n",
    "print(\"Statistiken Spalte 'Niederschlag in mm am Vortag'\")\n",
    "mode_regenmenge_vortag = dataset_weather[\"Niederschlag in mm am Vortag\"].mode()\n",
    "print(\"Modus: \", mode_regenmenge_vortag)\n",
    "\n",
    "median_regenmenge_vortag = dataset_weather[\"Niederschlag in mm am Vortag\"].median()\n",
    "print(\"Median: \", median_regenmenge_vortag)\n",
    "\n",
    "variance_regenmenge_vortag = dataset_weather[\"Niederschlag in mm am Vortag\"].var()\n",
    "print(\"Varianz: \", variance_regenmenge_vortag, \"\\n\")\n",
    "\n",
    "\n",
    "print(\"Statistiken Spalte 'Niederschlag in mm am nächsten Tag'\")\n",
    "mode_regenmenge_nachtag = dataset_weather[\"Niederschlag in mm am nächsten Tag\"].mode()\n",
    "print(\"Modus: \", mode_regenmenge_nachtag)\n",
    "\n",
    "median_regenmenge_nachtag = dataset_weather[\"Niederschlag in mm am nächsten Tag\"].median()\n",
    "print(\"Median: \", median_regenmenge_nachtag)\n",
    "\n",
    "variance_regenmenge_nachtag = dataset_weather[\"Niederschlag in mm am nächsten Tag\"].var()\n",
    "print(\"Varianz: \", variance_regenmenge_nachtag)"
   ]
  },
  {
   "cell_type": "markdown",
   "id": "9df2a163",
   "metadata": {},
   "source": [
    "### 2.3\n",
    "Nun erstelle ich ein Diagramm des Datenfeld (Niederschlag in mm)"
   ]
  },
  {
   "cell_type": "code",
   "execution_count": 6,
   "id": "6351577c",
   "metadata": {},
   "outputs": [
    {
     "data": {
      "image/png": "[encoded data removed]",
      "text/plain": [
       "<Figure size 640x480 with 1 Axes>"
      ]
     },
     "metadata": {},
     "output_type": "display_data"
    }
   ],
   "source": [
    "# Datumsformat konvertieren\n",
    "dataset_weather['Datum'] = pd.to_datetime(dataset_weather['Datum'])\n",
    "\n",
    "# Diagramm erstellen\n",
    "plt.plot(dataset_weather['Datum'], dataset_weather['Niederschlag in mm'], label='Niederschlag')\n",
    "\n",
    "# Achsenbeschriftung und Titel\n",
    "plt.xlabel('Datum')\n",
    "plt.ylabel('Niederschlag in mm')\n",
    "plt.title('Niederschlagsmenge im Verlauf der Zeit')\n",
    "\n",
    "# Legende hinzufügen\n",
    "plt.legend()\n",
    "\n",
    "# Diagramm anzeigen\n",
    "plt.show()"
   ]
  },
  {
   "cell_type": "markdown",
   "id": "f510df97",
   "metadata": {},
   "source": [
    "### 2.4\n",
    "Bei den beiden Spalten, die ich benutze, \"Niederschlag in mm\" und \"Niederschlag in mm am Vortag\", ist es unwahrscheinlich, dass eine Skalierung notwendig ist. Beide Spalten werden in derselben Einheit gemessen und liegen in einer ähnlichen Grössenordnung, sodass sie schon auf einer ähnlichen Skala sind. Aus diesem Grund ergibt eine Skalierung hier nicht viel Sinn."
   ]
  }
 ],
 "metadata": {
  "kernelspec": {
   "display_name": "Python 3 (ipykernel)",
   "language": "python",
   "name": "python3"
  },
  "language_info": {
   "codemirror_mode": {
    "name": "ipython",
    "version": 3
   },
   "file_extension": ".py",
   "mimetype": "text/x-python",
   "name": "python",
   "nbconvert_exporter": "python",
   "pygments_lexer": "ipython3",
   "version": "3.11.3"
  }
 },
 "nbformat": 4,
 "nbformat_minor": 5
}
